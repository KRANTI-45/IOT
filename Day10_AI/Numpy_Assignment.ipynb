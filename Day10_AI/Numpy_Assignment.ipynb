{
 "cells": [
  {
   "cell_type": "code",
   "execution_count": 2,
   "id": "de17f0f8-733f-407f-926a-54238072ac67",
   "metadata": {},
   "outputs": [],
   "source": [
    "import numpy as np\n"
   ]
  },
  {
   "cell_type": "markdown",
   "id": "a77d69c4-72c5-4b20-9fb8-e22b2fedc02d",
   "metadata": {},
   "source": [
    "# Q1  Write a NumPy program to create an array with the values 1, 7, 13, 105    and determine the size of the memory occupied by the array."
   ]
  },
  {
   "cell_type": "code",
   "execution_count": 3,
   "id": "7d4057c4-2a2a-43bd-9d30-ae257f522f06",
   "metadata": {},
   "outputs": [
    {
     "name": "stdout",
     "output_type": "stream",
     "text": [
      "size of array :4\n",
      "type:int64\n",
      "size of item :8\n",
      "memory :32\n"
     ]
    }
   ],
   "source": [
    "arr=np.array([1,7,13,15])\n",
    "print(f\"size of array :{arr.size}\")\n",
    "print(f\"type:{arr.dtype}\")\n",
    "print(f\"size of item :{arr.itemsize}\")\n",
    "print(f\"memory :{arr.nbytes}\")"
   ]
  },
  {
   "cell_type": "markdown",
   "id": "c673c644-52c4-4eea-97ee-56c9f8a84e0c",
   "metadata": {},
   "source": [
    "# Q2  Write a NumPy program to create an element-wise comparison (greater,    greater_equal, less and less_equal) of two given arrays."
   ]
  },
  {
   "cell_type": "code",
   "execution_count": 65,
   "id": "9700fe24-0a4c-4d93-a092-687bd9353776",
   "metadata": {},
   "outputs": [
    {
     "name": "stdout",
     "output_type": "stream",
     "text": [
      "[3 5 6 8]\n",
      "[4 5 5 9]\n",
      "[False False  True False]\n",
      "[False  True  True False]\n",
      "[ True False False  True]\n",
      "[ True  True False  True]\n"
     ]
    }
   ],
   "source": [
    "arr1=np.array([3,5,6,8])\n",
    "arr2=np.array([4,5,5,9])\n",
    "print(arr1)\n",
    "print(arr2)\n",
    "print(np.greater(arr1,arr2))\n",
    "print(np.greater_equal(arr1,arr2))      \n",
    "print(np.less(arr1,arr2))\n",
    "print(np.less_equal(arr1,arr2))"
   ]
  },
  {
   "cell_type": "markdown",
   "id": "606ffe8e-c147-4d92-90ed-ae01898f77ac",
   "metadata": {},
   "source": [
    "# Q3 Write a NumPy program to create an array of 10 zeros, 10 ones, 10    fives, 10 tens, 10 twentys and 10 fiftys."
   ]
  },
  {
   "cell_type": "code",
   "execution_count": 66,
   "id": "5ca11132-e9da-47b8-9f6f-995bfb38ab93",
   "metadata": {},
   "outputs": [
    {
     "name": "stdout",
     "output_type": "stream",
     "text": [
      "[0. 0. 0. 0. 0. 0. 0. 0. 0. 0.]\n",
      "[1. 1. 1. 1. 1. 1. 1. 1. 1. 1.]\n",
      "[5. 5. 5. 5. 5. 5. 5. 5. 5. 5.]\n",
      "[10. 10. 10. 10. 10. 10. 10. 10. 10. 10.]\n",
      "[20. 20. 20. 20. 20. 20. 20. 20. 20. 20.]\n",
      "[50. 50. 50. 50. 50. 50. 50. 50. 50. 50.]\n"
     ]
    }
   ],
   "source": [
    "arr1=np.zeros(10)\n",
    "print(arr1)\n",
    "arr1=np.ones(10)\n",
    "print(arr1)\n",
    "print(arr1*5)\n",
    "print(arr1*10)\n",
    "print(arr1*20)\n",
    "print(arr1*50)"
   ]
  },
  {
   "cell_type": "markdown",
   "id": "220a993e-5a15-4d9c-b87f-49e886718cb2",
   "metadata": {},
   "source": [
    "# Q4 Write a NumPy program to create an array of integers from 30 to 70."
   ]
  },
  {
   "cell_type": "code",
   "execution_count": 67,
   "id": "163e352d-5cd0-4aae-86ce-a0f9bdf1b8b1",
   "metadata": {},
   "outputs": [
    {
     "name": "stdout",
     "output_type": "stream",
     "text": [
      "[30 31 32 33 34 35 36 37 38 39 40 41 42 43 44 45 46 47 48 49 50 51 52 53\n",
      " 54 55 56 57 58 59 60 61 62 63 64 65 66 67 68 69]\n"
     ]
    }
   ],
   "source": [
    "arr=np.arange(30,70)\n",
    "print(arr)"
   ]
  },
  {
   "cell_type": "markdown",
   "id": "e3d237d6-6dff-4ead-a40d-7c9e8804c4f9",
   "metadata": {},
   "source": [
    "# Q5  Write a NumPy program to create an array of integers from 50 to 95."
   ]
  },
  {
   "cell_type": "code",
   "execution_count": 68,
   "id": "c1bbcccc-f0d2-4ceb-bbdd-6e3f7f33994a",
   "metadata": {},
   "outputs": [
    {
     "name": "stdout",
     "output_type": "stream",
     "text": [
      "[50 51 52 53 54 55 56 57 58 59 60 61 62 63 64 65 66 67 68 69 70 71 72 73\n",
      " 74 75 76 77 78 79 80 81 82 83 84 85 86 87 88 89 90 91 92 93 94]\n"
     ]
    }
   ],
   "source": [
    "arr=np.arange(50,95)\n",
    "print(arr)"
   ]
  },
  {
   "cell_type": "markdown",
   "id": "41cc3bb9-51a9-4cf1-aebb-0e9493e01487",
   "metadata": {},
   "source": [
    "# Q6 Write a NumPy program to create an array of all even integers from 20 to 80."
   ]
  },
  {
   "cell_type": "code",
   "execution_count": 69,
   "id": "8590bcf6-e036-4f28-8ada-be8655b2a022",
   "metadata": {},
   "outputs": [
    {
     "name": "stdout",
     "output_type": "stream",
     "text": [
      "[20 22 24 26 28 30 32 34 36 38 40 42 44 46 48 50 52 54 56 58 60 62 64 66\n",
      " 68 70 72 74 76 78]\n"
     ]
    }
   ],
   "source": [
    "arr=np.arange(20,80,2)\n",
    "print(arr)"
   ]
  },
  {
   "cell_type": "markdown",
   "id": "42046925-9939-44fe-a892-3bc46adc229a",
   "metadata": {},
   "source": [
    "# Q7 Write a NumPy program to create an array of all odd integers from 20 to 80."
   ]
  },
  {
   "cell_type": "code",
   "execution_count": 70,
   "id": "89dd87d8-78e7-4251-bf29-3b3267099a42",
   "metadata": {},
   "outputs": [
    {
     "name": "stdout",
     "output_type": "stream",
     "text": [
      "[21 23 25 27 29 31 33 35 37 39 41 43 45 47 49 51 53 55 57 59 61 63 65 67\n",
      " 69 71 73 75 77 79]\n"
     ]
    }
   ],
   "source": [
    "arr=np.arange(21,80,2)\n",
    "print(arr)"
   ]
  },
  {
   "cell_type": "markdown",
   "id": "11eb6966-b701-40df-a516-dbdde5ead300",
   "metadata": {},
   "source": [
    "# Q8 Write a NumPy program to generate an array of 15 random numbers from 10    to 40."
   ]
  },
  {
   "cell_type": "code",
   "execution_count": 71,
   "id": "550be27e-b742-4310-a5d2-35e6865ebac8",
   "metadata": {},
   "outputs": [
    {
     "name": "stdout",
     "output_type": "stream",
     "text": [
      "[12 36 12 18 28 10 30 26 35 11 38 12 27 34 12]\n"
     ]
    }
   ],
   "source": [
    "arr=np.random.randint(10,40,15)\n",
    "print(arr)"
   ]
  },
  {
   "cell_type": "markdown",
   "id": "ed233287-d8f8-4ed0-8445-34fbddff20cd",
   "metadata": {},
   "source": [
    "# Q9 Write a NumPy program to generate an array of 10 random numbers from 30    to 50."
   ]
  },
  {
   "cell_type": "code",
   "execution_count": 72,
   "id": "85fe2728-2789-40cd-a6b9-3ef2bb0a621e",
   "metadata": {},
   "outputs": [
    {
     "name": "stdout",
     "output_type": "stream",
     "text": [
      "[37 46 44 41 40 35 38 40 38 46]\n"
     ]
    }
   ],
   "source": [
    "arr=np.random.randint(30,50,10)\n",
    "print(arr)"
   ]
  },
  {
   "cell_type": "markdown",
   "id": "d7e279dc-7f9f-4a18-bd6d-015e416f5e57",
   "metadata": {},
   "source": [
    "# Q10 Write a NumPy program to generate an array of 20 random numbers from 50    to 90."
   ]
  },
  {
   "cell_type": "code",
   "execution_count": 73,
   "id": "a702b459-090b-41e9-85e4-62482e90dd32",
   "metadata": {},
   "outputs": [
    {
     "name": "stdout",
     "output_type": "stream",
     "text": [
      "[71 72 63 75 88 55 70 69 83 50 75 82 86 87 65 57 86 58 82 87]\n"
     ]
    }
   ],
   "source": [
    "arr=np.random.randint(50,90,20)\n",
    "print(arr)"
   ]
  },
  {
   "cell_type": "markdown",
   "id": "7ab777a2-6d71-4819-a67f-0794152d04cb",
   "metadata": {},
   "source": [
    "# Q11  Create any two arrays & perform various mathematical operations. i.e. Addition, Substraction, Multiplication, Divide.\n"
   ]
  },
  {
   "cell_type": "code",
   "execution_count": 74,
   "id": "f049991a-f550-42e0-aa11-258ceced6ae7",
   "metadata": {},
   "outputs": [
    {
     "name": "stdout",
     "output_type": "stream",
     "text": [
      "[12 24 36 48 59]\n",
      "[10 20 30 40 51]\n",
      "[ 11  44  99 176 220]\n",
      "[11.   11.   11.   11.   13.75]\n"
     ]
    }
   ],
   "source": [
    "arr1=np.array([11,22,33,44,55])\n",
    "arr2=np.array([1,2,3,4,4])\n",
    "print(arr1+arr2)\n",
    "print(arr1-arr2)\n",
    "print(arr1*arr2)\n",
    "print(arr1/arr2)"
   ]
  },
  {
   "cell_type": "markdown",
   "id": "28f32ab1-80b8-4d7d-93d9-c39d0330e2da",
   "metadata": {},
   "source": [
    "# Q12 Write a NumPy program to create a 3x4 matrix filled with values from 10     to 21."
   ]
  },
  {
   "cell_type": "code",
   "execution_count": 75,
   "id": "d986d46b-4619-4ca3-8fc1-72e27c3c867f",
   "metadata": {},
   "outputs": [
    {
     "name": "stdout",
     "output_type": "stream",
     "text": [
      "[[10 11 12 13]\n",
      " [14 15 16 17]\n",
      " [18 19 20 21]]\n"
     ]
    }
   ],
   "source": [
    "arr=(np.arange(10,22).reshape(3,4))\n",
    "print(arr)"
   ]
  },
  {
   "cell_type": "markdown",
   "id": "c7463cf3-2a19-4d4f-be5c-cbc9547501fd",
   "metadata": {},
   "source": [
    "# Q13  Write a NumPy program to create a 3x3 identity matrix, i.e. the diagonal     elements are 1, the rest are 0."
   ]
  },
  {
   "cell_type": "code",
   "execution_count": 76,
   "id": "d1104836-728d-44ba-940f-e7b1f1ff39a0",
   "metadata": {},
   "outputs": [
    {
     "name": "stdout",
     "output_type": "stream",
     "text": [
      "[[1. 0. 0.]\n",
      " [0. 1. 0.]\n",
      " [0. 0. 1.]]\n"
     ]
    }
   ],
   "source": [
    "arr=np.eye(3)\n",
    "print(arr)"
   ]
  },
  {
   "cell_type": "markdown",
   "id": "cd98bd7a-2bcf-403d-b46d-b486756228fb",
   "metadata": {},
   "source": [
    "# Q14 Write a NumPy program to find the number of rows and columns in a given     matrix"
   ]
  },
  {
   "cell_type": "code",
   "execution_count": 77,
   "id": "5401b842-7f6f-4594-8371-f2cc82964796",
   "metadata": {},
   "outputs": [
    {
     "name": "stdout",
     "output_type": "stream",
     "text": [
      "[[10 11 12 13]\n",
      " [14 15 16 17]\n",
      " [18 19 20 21]]\n",
      "(3, 4)\n"
     ]
    }
   ],
   "source": [
    "arr=(np.arange(10,22).reshape(3,4))\n",
    "print(arr)\n",
    "print(arr.shape)"
   ]
  },
  {
   "cell_type": "markdown",
   "id": "406a52fe-a5a2-418e-9c11-4369beb8a6d0",
   "metadata": {},
   "source": [
    "# Q15 Write a NumPy program to create a 5x5 zero matrix with elements on the     main diagonal equal to 1, 2, 3, 4, 5."
   ]
  },
  {
   "cell_type": "code",
   "execution_count": 78,
   "id": "3a1a6eee-9aaf-4034-af1a-117962be020b",
   "metadata": {},
   "outputs": [
    {
     "name": "stdout",
     "output_type": "stream",
     "text": [
      "[[1 0 0 0 0]\n",
      " [0 2 0 0 0]\n",
      " [0 0 3 0 0]\n",
      " [0 0 0 4 0]\n",
      " [0 0 0 0 5]]\n"
     ]
    }
   ],
   "source": [
    "arr=np.diag([1,2,3,4,5])\n",
    "print(arr)"
   ]
  },
  {
   "cell_type": "markdown",
   "id": "98b3f8da-172d-48ea-b6f4-6eea6141e345",
   "metadata": {},
   "source": [
    "# Q16  Write a NumPy program to create a 3x3x3 array filled with arbitrary     values."
   ]
  },
  {
   "cell_type": "code",
   "execution_count": 79,
   "id": "30ce7870-6da4-4f0d-9638-1ca6ec61036a",
   "metadata": {},
   "outputs": [
    {
     "name": "stdout",
     "output_type": "stream",
     "text": [
      "[[[0.14019962 0.76488781 0.27292408]\n",
      "  [0.89404596 0.49165308 0.65435194]\n",
      "  [0.43231938 0.83850861 0.18036871]]\n",
      "\n",
      " [[0.44060949 0.61088466 0.90162636]\n",
      "  [0.6675502  0.32427913 0.6927056 ]\n",
      "  [0.44365989 0.83963205 0.2900461 ]]\n",
      "\n",
      " [[0.7694377  0.56476688 0.83374497]\n",
      "  [0.82986622 0.24867637 0.08551785]\n",
      "  [0.91385695 0.99309942 0.65017486]]]\n"
     ]
    }
   ],
   "source": [
    "arr=np.random.random((3, 3, 3))\n",
    "print(arr)"
   ]
  },
  {
   "cell_type": "markdown",
   "id": "22ab84c5-55cb-45bd-a1ec-f0b566a77310",
   "metadata": {},
   "source": [
    "# Q17 Write a NumPy program to create a 2x3x4 array filled with arbitrary     values"
   ]
  },
  {
   "cell_type": "code",
   "execution_count": 80,
   "id": "8044560c-4ddc-4bf5-bb16-432fda5ecc04",
   "metadata": {},
   "outputs": [
    {
     "name": "stdout",
     "output_type": "stream",
     "text": [
      "[[[0.64050519 0.02238706 0.97741641 0.32795206]\n",
      "  [0.19511578 0.52079507 0.79088579 0.82466058]\n",
      "  [0.49720676 0.86491457 0.85448878 0.03049573]]\n",
      "\n",
      " [[0.97099538 0.58925403 0.73619096 0.36679442]\n",
      "  [0.40766596 0.23592639 0.49899062 0.77930784]\n",
      "  [0.42877101 0.21485133 0.81806481 0.63245361]]]\n"
     ]
    }
   ],
   "source": [
    "arr=np.random.random((2,3,4))\n",
    "print(arr)"
   ]
  },
  {
   "cell_type": "markdown",
   "id": "8de6ceb4-25f6-49c3-83ca-f35017c73262",
   "metadata": {},
   "source": [
    "# Q18  Write a NumPy program to convert a list of numeric values into a one-    dimensional NumPy array."
   ]
  },
  {
   "cell_type": "code",
   "execution_count": 81,
   "id": "3371b628-8bb8-4739-ae89-7be26b5dcf8b",
   "metadata": {},
   "outputs": [
    {
     "name": "stdout",
     "output_type": "stream",
     "text": [
      "[12, 121, 34.56, 78, 89]\n",
      "<class 'list'>\n",
      "[ 12.   121.    34.56  78.    89.  ]\n",
      "<class 'numpy.ndarray'>\n"
     ]
    }
   ],
   "source": [
    "list=[12,121,34.56,78,89]\n",
    "print(list)\n",
    "print(type(list))\n",
    "arr=np.array(list)\n",
    "print(arr)\n",
    "print(type(arr))\n"
   ]
  },
  {
   "cell_type": "markdown",
   "id": "59683066-117e-48f5-a49b-84b7778ea6d8",
   "metadata": {},
   "source": [
    "# Q19 Write a NumPy program to create a 3x3 matrix with values ranging from 2     to 10."
   ]
  },
  {
   "cell_type": "code",
   "execution_count": 82,
   "id": "f6048273-b01e-494b-bf29-1252a454b196",
   "metadata": {},
   "outputs": [
    {
     "name": "stdout",
     "output_type": "stream",
     "text": [
      "[[ 2  3  4]\n",
      " [ 5  6  7]\n",
      " [ 8  9 10]]\n"
     ]
    }
   ],
   "source": [
    "arr=(np.arange(2,11).reshape(3,3))\n",
    "print(arr)"
   ]
  },
  {
   "cell_type": "markdown",
   "id": "35b88620-71b5-4185-aca2-6626c7d73d87",
   "metadata": {},
   "source": [
    "# Q20 Write a NumPy program to create an array with values ranging from 12 to 38."
   ]
  },
  {
   "cell_type": "code",
   "execution_count": 83,
   "id": "9d9379d3-489c-4820-bbdb-db039c76df62",
   "metadata": {},
   "outputs": [
    {
     "name": "stdout",
     "output_type": "stream",
     "text": [
      "[12 13 14 15 16 17 18 19 20 21 22 23 24 25 26 27 28 29 30 31 32 33 34 35\n",
      " 36 37]\n"
     ]
    }
   ],
   "source": [
    "arr=np.arange(12,38)\n",
    "print(arr)"
   ]
  },
  {
   "cell_type": "markdown",
   "id": "302adbb9-4d7b-4232-98a9-5abc3ef65c30",
   "metadata": {},
   "source": [
    "# Q21 Write a NumPy program to reverse an array (the first element becomes the last)."
   ]
  },
  {
   "cell_type": "code",
   "execution_count": 84,
   "id": "28b39541-3965-42ac-bbfb-dfef818aa464",
   "metadata": {},
   "outputs": [
    {
     "name": "stdout",
     "output_type": "stream",
     "text": [
      "[16 15 14 13 12]\n"
     ]
    }
   ],
   "source": [
    "arr=np.array([12,13,14,15,16])\n",
    "arr=arr[::-1]\n",
    "print(arr)"
   ]
  },
  {
   "cell_type": "markdown",
   "id": "71db66ee-d2e9-45e4-b5f2-b16eb528086e",
   "metadata": {},
   "source": [
    "# Q22 Write a NumPy program to convert an data type into to a floating type."
   ]
  },
  {
   "cell_type": "code",
   "execution_count": 85,
   "id": "67fd7ecd-9f0c-4b78-bb55-54dd64c572fd",
   "metadata": {},
   "outputs": [
    {
     "name": "stdout",
     "output_type": "stream",
     "text": [
      "int64\n",
      "float16\n"
     ]
    }
   ],
   "source": [
    "arr=np.array([11,22,33,44,55])\n",
    "print(arr.dtype)\n",
    "arr=np.array([11,22,33,44,55],dtype=np.float16)\n",
    "print(arr.dtype)"
   ]
  },
  {
   "cell_type": "markdown",
   "id": "cfeac5c5-7c40-46ac-ae0b-07672ba3a1eb",
   "metadata": {},
   "source": [
    "# Q23  Write a NumPy program to convert a list array"
   ]
  },
  {
   "cell_type": "code",
   "execution_count": 86,
   "id": "047e9a20-5649-46d9-872f-edd9dc6befa1",
   "metadata": {},
   "outputs": [
    {
     "name": "stdout",
     "output_type": "stream",
     "text": [
      "[12, 121, 34.56, 78, 89]\n",
      "<class 'list'>\n",
      "[ 12.   121.    34.56  78.    89.  ]\n",
      "<class 'numpy.ndarray'>\n"
     ]
    }
   ],
   "source": [
    "\n",
    "list=[12,121,34.56,78,89]\n",
    "print(list)\n",
    "print(type(list))\n",
    "arr=np.array(list)\n",
    "print(arr)\n",
    "print(type(arr))\n"
   ]
  },
  {
   "cell_type": "markdown",
   "id": "6c8e9876-be51-4c59-a6e7-7000b682a0cf",
   "metadata": {},
   "source": [
    "# Q24 Write a NumPy program to get the element-wise remainder of an array of division."
   ]
  },
  {
   "cell_type": "code",
   "execution_count": 87,
   "id": "3e94e825-1dcf-4bea-a5f5-1484b0de277a",
   "metadata": {},
   "outputs": [
    {
     "name": "stdout",
     "output_type": "stream",
     "text": [
      "[0 1 2 3 4 5 6 7 8 9]\n",
      "[0 1 2 3 4 0 1 2 3 4]\n"
     ]
    }
   ],
   "source": [
    "arr=np.arange(10)\n",
    "print(arr)\n",
    "arr=np.remainder(arr,5)\n",
    "print(arr)"
   ]
  },
  {
   "cell_type": "markdown",
   "id": "f6e72305-c23e-4fe4-a9f0-2ed9f32be828",
   "metadata": {},
   "source": [
    "# Q25 Write a NumPy program to get the element-wise remainder of an array of numbers from 20 to 50 which are divisible by 3."
   ]
  },
  {
   "cell_type": "code",
   "execution_count": 88,
   "id": "e410186f-abc4-43e2-8fac-fd49c3d39dc2",
   "metadata": {},
   "outputs": [
    {
     "name": "stdout",
     "output_type": "stream",
     "text": [
      "[20 21 22 23 24 25 26 27 28 29 30 31 32 33 34 35 36 37 38 39 40 41 42 43\n",
      " 44 45 46 47 48 49]\n",
      "[2 0 1 2 0 1 2 0 1 2 0 1 2 0 1 2 0 1 2 0 1 2 0 1 2 0 1 2 0 1]\n"
     ]
    }
   ],
   "source": [
    "arr=np.arange(20,50)\n",
    "print(arr)\n",
    "arr=np.remainder(arr,3)\n",
    "print(arr)"
   ]
  },
  {
   "cell_type": "code",
   "execution_count": null,
   "id": "18d51e97-d36b-4ad8-b7a8-eeb31d1526ea",
   "metadata": {},
   "outputs": [],
   "source": []
  }
 ],
 "metadata": {
  "kernelspec": {
   "display_name": "Python 3 (ipykernel)",
   "language": "python",
   "name": "python3"
  },
  "language_info": {
   "codemirror_mode": {
    "name": "ipython",
    "version": 3
   },
   "file_extension": ".py",
   "mimetype": "text/x-python",
   "name": "python",
   "nbconvert_exporter": "python",
   "pygments_lexer": "ipython3",
   "version": "3.10.12"
  }
 },
 "nbformat": 4,
 "nbformat_minor": 5
}
